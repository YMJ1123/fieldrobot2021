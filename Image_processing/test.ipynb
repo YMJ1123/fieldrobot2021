{
 "cells": [
  {
   "cell_type": "code",
   "execution_count": 1,
   "source": [
    "import numpy as np\n",
    "import cv2\n",
    "from utilities import *"
   ],
   "outputs": [],
   "metadata": {}
  },
  {
   "cell_type": "code",
   "execution_count": 28,
   "source": [
    "arrayA = np.arange(24)\n",
    "arrayB = arrayA.reshape((6,4)) \n",
    "arrayB\n",
    "# arrayC = np.pad(arrayB.flatten(),(0,len(arrayB)*len(arrayB[0])*2),'constant',constant_values=(0,0)).reshape((len(arrayB),len(arrayB[0]),3)) \n",
    "arrayC = arrayB.flatten().reshape((len(arrayB),len(arrayB[0]))) \n",
    "arrayC.shape"
   ],
   "outputs": [
    {
     "output_type": "execute_result",
     "data": {
      "text/plain": [
       "(6, 4)"
      ]
     },
     "metadata": {},
     "execution_count": 28
    }
   ],
   "metadata": {}
  },
  {
   "cell_type": "code",
   "execution_count": 29,
   "source": [
    "# print(len(arrayA))\n",
    "# print(len(arrayB))\n",
    "# print(len(arrayB[0]))\n",
    "print(arrayC)"
   ],
   "outputs": [
    {
     "output_type": "stream",
     "name": "stdout",
     "text": [
      "[[ 0  1  2  3]\n",
      " [ 4  5  6  7]\n",
      " [ 8  9 10 11]\n",
      " [12 13 14 15]\n",
      " [16 17 18 19]\n",
      " [20 21 22 23]]\n"
     ]
    }
   ],
   "metadata": {}
  },
  {
   "cell_type": "code",
   "execution_count": 36,
   "source": [
    "image=cv2.imread('testdata/tomato1.png')\n",
    "hsv = cv2.cvtColor(image, cv2.COLOR_BGR2HSV) #將BGR轉換為HSV \n",
    "#HSV中的顏色強度參數\n",
    "weaker_red = np.array([0,76,157]) \n",
    "strong_red = np.array([179,199,255])\n",
    "mask_red = cv2.inRange(hsv,weaker_red,strong_red) #Threshold HSV圖像獲取輸入顏色\n",
    "z_array=np.zeros((len(mask_red),len(mask_red[0])))\n",
    "mask=np.stack((mask_red.copy(),z_array.copy(),z_array.copy()),2)\n",
    "displayIMG(mask)"
   ],
   "outputs": [],
   "metadata": {}
  },
  {
   "cell_type": "code",
   "execution_count": 32,
   "source": [
    "z=np.zeros((6,4))\n",
    "c=np.stack((arrayC.copy(),z.copy(),z.copy()),2)\n",
    "print(c)\n",
    "print(c.shape)\n"
   ],
   "outputs": [
    {
     "output_type": "stream",
     "name": "stdout",
     "text": [
      "[[[ 0.  0.  0.]\n",
      "  [ 1.  0.  0.]\n",
      "  [ 2.  0.  0.]\n",
      "  [ 3.  0.  0.]]\n",
      "\n",
      " [[ 4.  0.  0.]\n",
      "  [ 5.  0.  0.]\n",
      "  [ 6.  0.  0.]\n",
      "  [ 7.  0.  0.]]\n",
      "\n",
      " [[ 8.  0.  0.]\n",
      "  [ 9.  0.  0.]\n",
      "  [10.  0.  0.]\n",
      "  [11.  0.  0.]]\n",
      "\n",
      " [[12.  0.  0.]\n",
      "  [13.  0.  0.]\n",
      "  [14.  0.  0.]\n",
      "  [15.  0.  0.]]\n",
      "\n",
      " [[16.  0.  0.]\n",
      "  [17.  0.  0.]\n",
      "  [18.  0.  0.]\n",
      "  [19.  0.  0.]]\n",
      "\n",
      " [[20.  0.  0.]\n",
      "  [21.  0.  0.]\n",
      "  [22.  0.  0.]\n",
      "  [23.  0.  0.]]]\n",
      "(6, 4, 3)\n"
     ]
    }
   ],
   "metadata": {}
  }
 ],
 "metadata": {
  "orig_nbformat": 4,
  "language_info": {
   "name": "python",
   "version": "3.6.9",
   "mimetype": "text/x-python",
   "codemirror_mode": {
    "name": "ipython",
    "version": 3
   },
   "pygments_lexer": "ipython3",
   "nbconvert_exporter": "python",
   "file_extension": ".py"
  },
  "kernelspec": {
   "name": "python3",
   "display_name": "Python 3.6.9 64-bit ('venv': venv)"
  },
  "interpreter": {
   "hash": "03f5b4915c0ba811416bd58051d15010b38dff586f1dc8a493e34685b8e30260"
  }
 },
 "nbformat": 4,
 "nbformat_minor": 2
}